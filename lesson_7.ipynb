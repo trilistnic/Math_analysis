{
 "cells": [
  {
   "cell_type": "markdown",
   "id": "51d5a2be",
   "metadata": {},
   "source": [
    "### 1) Найти интервалы возрастания и убывания функций:\n",
    "$1)f(x)=x+e^{-x}$\n",
    "\n",
    "$f'(x)=1-e^{-x}$\n",
    "\n",
    "$f'(x)=0 => x=0$ стационарная точка\n",
    "\n",
    "(-∞;0) функция убывает\n",
    "\n",
    "(0;+∞)функция возрастает"
   ]
  },
  {
   "cell_type": "markdown",
   "id": "d1f9ab42",
   "metadata": {},
   "source": [
    "$2)f(x)=x·ln(x)$\n",
    "\n",
    "$f'(x)=1·ln(x)+x·\\frac{1}{x}=ln(x)+1$\n",
    "\n",
    "$f'(x)=0 => x=\\frac{1}{e}=0,368$ стационарная точка\n",
    "\n",
    "$f'(x) \\nexists=> x<0 $\n",
    "\n",
    "$(0;0,368)$ функция убывает\n",
    "\n",
    "$(0,368;+∞)$ функция возрастает"
   ]
  },
  {
   "cell_type": "markdown",
   "id": "6b9e3cda",
   "metadata": {},
   "source": [
    "$3)f(x)=\\frac{1}{1-x^{2}}$\n",
    "\n",
    "$f'(x)=\\frac{2x}{(1-x^{2})^{2}}$\n",
    "\n",
    "$f'(x)=0 => x=0$ стационарная точка \n",
    "\n",
    "$f'(x) \\nexists=> x=\\pm1 $ критические точки\n",
    "\n",
    "$(-∞;-1)(-1;0)$ функция убывает\n",
    "\n",
    "$(0;1)(1;+∞)$ функция возрастает"
   ]
  },
  {
   "cell_type": "markdown",
   "id": "79b5ac30",
   "metadata": {},
   "source": [
    "### 2) Найти экстремумы функций:\n",
    "$1)f(x)=x^{3}-3x+1$\n",
    "\n",
    "$f'(x)=3x^{2}-3=3(x^{2}-1)$\n",
    "\n",
    "$f'(x)=0 => x\\pm1$ стационарные точки\n",
    "\n",
    "$f''(x)=6x$\n",
    "\n",
    "$f'(-1)=0; f''(-1)=-6<0 =>$ x=-1 точка локального максимума $f(-1)=3$\n",
    "\n",
    "$f'(1)=0; f''(1)=6>0 =>$ x=1 точка локального минимума $f(1)=-1$"
   ]
  },
  {
   "cell_type": "markdown",
   "id": "ef798562",
   "metadata": {},
   "source": [
    "$2)f(x)=e^{x^{2}-4x+5}$\n",
    "\n",
    "$f'(x)=(2x-4)·e^{x^{2}-4x+5}$\n",
    "\n",
    "$f'(x)=0 => x=2$ стационарная точка\n",
    "\n",
    "$f''(x)=2e^{x^{2}-4x+5}+(2x-4)^{2}·e^{x^{2}-4x+5}=(4x^2-16x+18)·e^{x^{2}-4x+5}$\n",
    "\n",
    "$f'(2)=0; f''(2)=2e>0 =>$ x=2 точка локального минимума $f(2)=e$"
   ]
  },
  {
   "cell_type": "markdown",
   "id": "10d5b523",
   "metadata": {},
   "source": [
    "$3)f(x)=x−arctg(x)$\n",
    "\n",
    "$f'(x)=1-\\frac{1}{1+x^2}$\n",
    "\n",
    "$f'(x)=0 => x=0$ стационарная точка\n",
    "\n",
    "$f''(x)=\\frac{2x}{(1+x^{2})^{2}}$\n",
    "\n",
    "$f'(0)=0; f''(0)=0 =>$ x=0 точка перегиба f(0)=0"
   ]
  },
  {
   "cell_type": "markdown",
   "id": "04207bf4",
   "metadata": {},
   "source": [
    "### 3) Найти интервалы выпуклости и точки перегиба функций:\n",
    "$1)f(x)=e^{−x^{2}}$\n",
    "\n",
    "$f'(x)=-2x·e^{−x^{2}}$\n",
    "\n",
    "$f''(x)=2e^{−x^{2}}·(2x^{2}-1)$\n",
    "\n",
    "$f''(x)=0 => x=\\pm\\sqrt\\frac{1}{2}=\\pm0,707$ точки перегиба функции\n",
    "\n",
    "$(-∞;-\\sqrt\\frac{1}{2})(0;\\sqrt\\frac{1}{2})$ функция выпукла вниз\n",
    "\n",
    "$(-\\sqrt\\frac{1}{2};\\sqrt\\frac{1}{2})$ функция выпукла вверх"
   ]
  },
  {
   "cell_type": "markdown",
   "id": "81f63e49",
   "metadata": {},
   "source": [
    "$2)f(x)=cos(x)$\n",
    "\n",
    "$f'(x)=-sin(x)$\n",
    "\n",
    "$f''(x)=-cos(x)$\n",
    "\n",
    "$f''(x)=0 => x=\\frac{\\pi}{2}+\\pi·n$ точки перегиба функции\n",
    "\n",
    "на интервалах $(\\frac{\\pi}{2}+2\\pi·n;\\frac{3\\pi}{2}+2\\pi·n$ функция выпукла вниз\n",
    "\n",
    "на интервалах $(-\\frac{\\pi}{2}+2\\pi·n;\\frac{\\pi}{2}+2\\pi·n)$ функция выпукла вверх"
   ]
  },
  {
   "cell_type": "markdown",
   "id": "c59df37c",
   "metadata": {},
   "source": [
    "$3)f(x)=x^{5}−10x^{2}+7x$\n",
    "\n",
    "$f'(x)=5x^{4}-20x+7$\n",
    "\n",
    "$f''(x)=20x^{3}-20$\n",
    "\n",
    "$f''(x)=0 =>x=1$ точка перегиба функции\n",
    "\n",
    "$(1;+∞)$ функция выпукла вниз\n",
    "\n",
    "$(-∞;1)$ функция выпукла вверх"
   ]
  },
  {
   "cell_type": "markdown",
   "id": "827e0b92",
   "metadata": {},
   "source": [
    "### 4) Найти асимптоты графиков функций:\n",
    "$1)f(x)=\\frac{3x}{x+2}$\n",
    "\n",
    "$k=lim_{x→+∞}\\frac{f(x)}{x}=lim_{x→+∞}\\frac{3}{x+2}=0$\n",
    "\n",
    "$b=lim_{x→+∞}f(x)-kx=lim_{x→+∞}\\frac{3x}{x+2}=3$\n",
    "\n",
    "при x→-∞ аналогично\n",
    "\n",
    "=> y=3 - горизонтальная асимптота\n",
    "\n",
    "$lim_{x→-2+0}\\frac{3x}{x+2}=+∞$\n",
    "\n",
    "$lim_{x→-2-0}\\frac{3x}{x+2}=-∞$\n",
    "\n",
    "x=-2 - точка разрыва 2го рода и вертикальная асимптота"
   ]
  },
  {
   "cell_type": "markdown",
   "id": "854759f7",
   "metadata": {},
   "source": [
    "$2)f(x)=e^{-\\frac{1}{x}}$\n",
    "\n",
    "$k=lim_{x→+∞}\\frac{f(x)}{x}=lim_{x→+∞}\\frac{1}{x·e^{\\frac{1}{x}}}=0$\n",
    "\n",
    "$b=lim_{x→+∞}f(x)-kx=lim_{x→+∞}\\frac{1}{e^{\\frac{1}{x}}}=1$\n",
    "\n",
    "при x→-∞ аналогично\n",
    "\n",
    "=> y=1 - горизонтальная асимптота\n",
    "\n",
    "$lim_{x→0+0}\\frac{1}{e^{\\frac{1}{x}}}=0$\n",
    "\n",
    "$lim_{x→0-0}\\frac{1}{e^{\\frac{1}{x}}}=∞$\n",
    "\n",
    "x=-0 - точка разрыва 2го рода и вертикальная асимптота"
   ]
  },
  {
   "cell_type": "markdown",
   "id": "d9309de0",
   "metadata": {},
   "source": [
    "### 5) Провести полное исследование и построить графики функции:\n",
    "$f(x)=x^{2}·e^{-x}$"
   ]
  },
  {
   "cell_type": "markdown",
   "id": "ce69dd71",
   "metadata": {},
   "source": [
    "$1)D(f):(-∞;∞)$\n",
    "\n",
    "2) функция не переодическая\n",
    "\n",
    "$3)f(-x)=(-x)^{2}·e^{x}\\ne f(x) \\ne -f(x)=>$ функция ни четная, ни нечетная\n",
    "\n",
    "$4)OY:x=0 => f(x)=0$\n",
    "\n",
    "$OX:f(x)=0 => x=0 =>$ M(0;0) - единственная точка пересечения с осями координат\n",
    "\n",
    "$5)k=lim_{x→+∞}\\frac{f(x)}{x}=lim_{x→+∞}\\frac{x}{e^{x}}=0$\n",
    "\n",
    "$b=lim_{x→+∞}f(x)-kx=lim_{x→+∞}\\frac{x}{e^{x}}=0$\n",
    "\n",
    "$=> y=0$ - горизонтальная асимптота\n",
    "\n",
    "$6)f'(x)=\\frac{2x·e^{x}-e^{x}·x^{2}}{e^{2x}}=\\frac{2x-x^{2}}{e^{x}}$\n",
    "\n",
    "$f'(x)=0 => x=0, x=2$ - стационарные точки\n",
    "\n",
    "(-∞;0)(2;+∞) функция убывает\n",
    "\n",
    "(0;2)функция возрастает\n",
    "\n",
    "$7)f''(x)=\\frac{(2-2x)·e^{x}-(2x-x^2)·e^{x}}{e^{2x}}=\\frac{x^{2}-4x+2}{e^{x}}$\n",
    "\n",
    "$f''(x)=0 => x=2\\pm\\sqrt{2}$ - точки перегиба функции\n",
    "\n",
    "$(-∞;2-\\sqrt{2})(2+\\sqrt{2};+∞)$ функция выпукла вниз\n",
    "\n",
    "$(2-\\sqrt{2};2+\\sqrt{2})$ функция выпукла вверх\n"
   ]
  },
  {
   "cell_type": "code",
   "execution_count": 1,
   "id": "4f3210cd",
   "metadata": {},
   "outputs": [],
   "source": [
    "import matplotlib.pyplot as plt\n",
    "import numpy as np\n",
    "import math"
   ]
  },
  {
   "cell_type": "code",
   "execution_count": 17,
   "id": "aa0f38e1",
   "metadata": {},
   "outputs": [
    {
     "data": {
      "text/plain": [
       "[<matplotlib.lines.Line2D at 0x1b9f162b7f0>]"
      ]
     },
     "execution_count": 17,
     "metadata": {},
     "output_type": "execute_result"
    },
    {
     "data": {
      "image/png": "[encoded data removed]",
      "text/plain": [
       "<Figure size 432x288 with 1 Axes>"
      ]
     },
     "metadata": {
      "needs_background": "light"
     },
     "output_type": "display_data"
    }
   ],
   "source": [
    "x = np.linspace(-1, 10, 100)\n",
    "y = x**2/np.exp(x)\n",
    "# Построение графика\n",
    "plt.title(\"y = x^2/e^x\") # заголовок\n",
    "plt.xlabel(\"x\") # ось абсцисс\n",
    "plt.ylabel(\"y\") # ось ординат\n",
    "plt.grid()      # включение отображение сетки\n",
    "plt.plot(x, y)  # построение графика"
   ]
  }
 ],
 "metadata": {
  "kernelspec": {
   "display_name": "Python 3 (ipykernel)",
   "language": "python",
   "name": "python3"
  },
  "language_info": {
   "codemirror_mode": {
    "name": "ipython",
    "version": 3
   },
   "file_extension": ".py",
   "mimetype": "text/x-python",
   "name": "python",
   "nbconvert_exporter": "python",
   "pygments_lexer": "ipython3",
   "version": "3.9.7"
  }
 },
 "nbformat": 4,
 "nbformat_minor": 5
}

{
 "cells": [
  {
   "cell_type": "markdown",
   "id": "59feb629",
   "metadata": {},
   "source": [
    "### 1) Найти пределы:\n",
    "$а)lim_{n→∞}\\frac{10n}{n^{2}+1}$"
   ]
  },
  {
   "cell_type": "markdown",
   "id": "2bdc0523",
   "metadata": {},
   "source": [
    "$lim_{n→∞}\\frac{10n}{n^{2}+1}=lim_{n→∞}\\frac{\\frac{10}{n}}{1+\\frac{1}{n^{2}}}=\\frac{0}{1+0}=0$"
   ]
  },
  {
   "cell_type": "markdown",
   "id": "c6ce589c",
   "metadata": {},
   "source": [
    "$б)lim_{n→∞}\\frac{n^{2}-n}{n-\\sqrt{n}}$"
   ]
  },
  {
   "cell_type": "markdown",
   "id": "096d2662",
   "metadata": {},
   "source": [
    "$lim_{n→∞}\\frac{n^{2}-n}{n-\\sqrt{n}}=lim_{n→∞}\\frac{1-\\frac{1}{n}}{\\frac{1}{n}-\\frac{1}{n\\sqrt{n}}}=\\frac{1-0}{0-0}=∞$"
   ]
  },
  {
   "cell_type": "markdown",
   "id": "6a02edd7",
   "metadata": {},
   "source": [
    "$в)lim_{n→∞}\\frac{5*3n}{3^{n}-2}$"
   ]
  },
  {
   "cell_type": "markdown",
   "id": "2963c003",
   "metadata": {},
   "source": [
    "$lim_{n→∞}\\frac{5*3n}{3^{n}-2}=lim_{n→∞}\\frac{\\frac{15n}{3^{n}}}{1-\\frac{2}{3^{n}}}=\\frac{0}{1-0}=0$"
   ]
  },
  {
   "cell_type": "markdown",
   "id": "0680c197",
   "metadata": {},
   "source": [
    "### 2) Найти предел \n",
    "\n",
    "$lim_{n→∞}(\\sqrt{n^{2}+n}-n)=lim_{n→∞}\\frac{n^{2}+n-n^{2}}{\\sqrt{n^{2}+n}+n}=lim_{n→∞}\\frac{1}{\\frac{\\sqrt{n^{2}+n}}{n}+1}$\n",
    "\n",
    "$lim_{n→∞}\\frac{\\sqrt{n^{2}+n}}{n}=lim_{n→∞}\\sqrt{\\frac{n^{2}+n}{n^2}}=lim_{n→∞}\\sqrt{\\frac{1+\\frac{1}{n}}{1}}=\\frac{1+0}{1}=1$\n",
    "\n",
    "$=>lim_{n→∞}(\\sqrt{n^{2}+n}-n)=lim_{n→∞}\\frac{1}{\\frac{\\sqrt{n^{2}+n}}{n}+1}=\\frac{1}{1+1}=\\frac{1}{2}$"
   ]
  },
  {
   "cell_type": "markdown",
   "id": "15600dd8",
   "metadata": {},
   "source": [
    "### 3) Вычислить \n",
    "\n",
    "$lim_{n→∞}\\frac{\\sqrt{n}*cos(n)}{n+1}=lim_{n→∞}\\frac{\\frac{cos(n)}{\\sqrt{n}}}{1+\\frac{1}{n}}=\\frac{0}{1+0}=0$"
   ]
  }
 ],
 "metadata": {
  "kernelspec": {
   "display_name": "Python 3 (ipykernel)",
   "language": "python",
   "name": "python3"
  },
  "language_info": {
   "codemirror_mode": {
    "name": "ipython",
    "version": 3
   },
   "file_extension": ".py",
   "mimetype": "text/x-python",
   "name": "python",
   "nbconvert_exporter": "python",
   "pygments_lexer": "ipython3",
   "version": "3.9.7"
  }
 },
 "nbformat": 4,
 "nbformat_minor": 5
}

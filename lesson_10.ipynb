{
 "cells": [
  {
   "cell_type": "markdown",
   "id": "b6cc7d17",
   "metadata": {},
   "source": [
    "### 1) Найти интегралы:"
   ]
  },
  {
   "cell_type": "markdown",
   "id": "9604c31d",
   "metadata": {},
   "source": [
    "$1) \\int\\frac{x^{4}+x^{2}-6x}{x^{3}}dx=\\int x+\\frac{1}{x}-\\frac{6}{x^{2}}=\\int xdx+\\int\\frac{1}{x}dx-\\int\\frac{6}{x^{2}}dx=\\frac{x^{2}}{2}+ln(|x|)+\\frac{6}{x}+C$"
   ]
  },
  {
   "cell_type": "markdown",
   "id": "03ec6237",
   "metadata": {},
   "source": [
    "$2)\\int cos(2x)dx$\n",
    "\n",
    "$t=2x,dt=2dx=>dx=\\frac{dt}{2}$\n",
    "\n",
    "$\\int cos(2x)dx=\\int \\frac{cos(t)}{2}dt=\\frac{sin(t)}{2}+C=\\frac{sin(2x)}{2}+C$"
   ]
  },
  {
   "cell_type": "markdown",
   "id": "9cf6270c",
   "metadata": {},
   "source": [
    "$3)\\int \\frac{dx}{(3x+2)^{4}}$\n",
    "\n",
    "$t=3x+2, dt=3dx=>dx=\\frac{dt}{3}$\n",
    "\n",
    "$\\int \\frac{dx}{(3x+2)^{4}}=\\int\\frac{dt}{3t^{4}}=-\\frac{1}{9{t^{3}}}+C=-\\frac{1}{9{(3x+2)^{3}}}+C$"
   ]
  },
  {
   "cell_type": "markdown",
   "id": "40ab2137",
   "metadata": {},
   "source": [
    "$4)\\int \\frac{5x-1}{\\sqrt{4-x^{2}}}dx=\\int \\frac{5x}{\\sqrt{4-x^{2}}}dx-\\int \\frac{1}{\\sqrt{4-x^{2}}}dx$\n",
    "\n",
    "$t=4-x^{2}, dt=-2xdx=>xdx=-\\frac{dt}{2}$\n",
    "\n",
    "$\\int \\frac{5x-1}{\\sqrt{4-x^{2}}}dx=-\\frac{5}{2}\\int \\frac{1}{\\sqrt{t}}dt-\\int \\frac{1}{\\sqrt{2^{2}-x^{2}}}dx=-5\\sqrt{t}-acrsin(\\frac{x}{2})+C=-5\\sqrt{4-x^{2}}-acrsin(\\frac{x}{2})+C$"
   ]
  },
  {
   "cell_type": "markdown",
   "id": "e1d81f91",
   "metadata": {},
   "source": [
    "$5)\\int \\frac{dx}{\\sqrt{x}(1+\\sqrt{x})}$\n",
    "\n",
    "$t=1+\\sqrt{x}, dt=\\frac{1}{2\\sqrt{x}}dx=>2dt=\\frac{dx}{\\sqrt{x}}$\n",
    "\n",
    "$\\int \\frac{dx}{\\sqrt{x}(1+\\sqrt{x})}=\\int \\frac{2dt}{t}=2ln(|t|)+C=2ln(1+\\sqrt{x})+C$"
   ]
  },
  {
   "cell_type": "markdown",
   "id": "3b624260",
   "metadata": {},
   "source": [
    "$6)\\int x^{2}cos(x)dx$\n",
    "\n",
    "$u=x^{2}, dv=cos(x)dx=>du=2xdx, v=sin(x)$\n",
    "\n",
    "$\\int udv=uv-\\int vdu$\n",
    "\n",
    "$\\int x^{2}cos(x)dx=x^{2}sin(x)-\\int 2xsin(x)dx$\n",
    "\n",
    "$u=x, dv=sin(x)dx=>du=dx, v=-cos(x)$\n",
    "\n",
    "$\\int x^{2}cos(x)dx=x^{2}sin(x)+2xcos(x)-2\\int cos(x)dx=x^{2}sin(x)+2xcos(x)-2sin(x)+C$"
   ]
  },
  {
   "cell_type": "markdown",
   "id": "e53aac77",
   "metadata": {},
   "source": [
    "$7)\\int arctan(x)dx$\n",
    "\n",
    "$u=arctan(x), dv=dx=> du=\\frac{1}{1+x^{2}}dx,v=x$\n",
    "\n",
    "$\\int arctan(x)dx=x·arctan(x)-\\int \\frac{x}{1+x^{2}}dx$\n",
    "\n",
    "$t=1+x^{2}, dt=2xdx=>xdx=\\frac{dt}{2}$\n",
    "\n",
    "$\\int arctan(x)dx=x·arctan(x)-\\frac{1}{2}\\int \\frac{dt}{t}=x·arctan(x)-\\frac{1}{2}ln(|t|)+C=x·arctan(x)-\\frac{ln(1+x^{2})}{2}+C$"
   ]
  },
  {
   "cell_type": "markdown",
   "id": "975d1586",
   "metadata": {},
   "source": [
    "$8)\\int \\frac{dx}{(x-1)^5}$\n",
    "\n",
    "$t=x-1, dt=dx$\n",
    "\n",
    "$\\int \\frac{dx}{(x-1)^5}=\\int \\frac{dt}{t^5}=-\\frac{1}{4t^4}+C=-\\frac{1}{4(x-1)^4}+C$"
   ]
  },
  {
   "cell_type": "markdown",
   "id": "57560da2",
   "metadata": {},
   "source": [
    "$9)\\int\\frac{x+6}{x^{2}-2x+17}dx$\n",
    "\n",
    "$t=x^{2}-2x+17, dt=(2x-2)dx=>(x-1)dx=\\frac{dt}{2}$\n",
    "\n",
    "$\\int\\frac{x+6}{x^{2}-2x+17}dx=\\int\\frac{dt}{2t}+7\\int\\frac{dx}{(x-1)^{2}+16}=\\frac{ln(|t|)}{2}+\\frac{7arctan(\\frac{x-1}{4})}{4}+C=\\frac{ln(|x^{2}-2x+17|)}{2}+\\frac{7arctan(\\frac{x-1}{4})}{4}+C$"
   ]
  },
  {
   "cell_type": "markdown",
   "id": "823f3694",
   "metadata": {},
   "source": [
    "$10)\\int\\frac{x}{(x^{2}-1)(x^{2}+1)}dx$\n",
    "\n",
    "$t=x^{2}-1, dt=2xdx=>xdx=\\frac{dt}{2}$\n",
    "\n",
    "$\\int\\frac{x}{(x^{2}-1)(x^{2}+1)}dx=\\frac{1}{2}\\int\\frac{dt}{t(t+2)}=\\int\\frac{dt}{t^2(1+\\frac{2}{t})}$\n",
    "\n",
    "$u=1+\\frac{2}{t}, du=-\\frac{2}{t^2}dt=>\\frac{dt}{t^2}=-\\frac{du}{2}$\n",
    "\n",
    "$\\int\\frac{x}{(x^{2}-1)(x^{2}+1)}dx=-\\frac{1}{4}\\int\\frac{du}{u}=-\\frac{ln(|u|)}{4}+C=-\\frac{ln(|1+\\frac{2}{t}|)}{4}+C=-\\frac{ln(|1+\\frac{2}{x^{2}-1}|)}{4}+C=-\\frac{ln(|\\frac{x^{2}+1}{x^{2}-1}|)}{4}+C$"
   ]
  },
  {
   "cell_type": "markdown",
   "id": "aa73847e",
   "metadata": {},
   "source": [
    "$11)\\int\\frac{\\sqrt[3]{x}}{\\sqrt[3]{x^{2}}-\\sqrt{x}}dx$\n",
    "\n",
    "$x=t^{6}, dx=6t^{5}dt, t=x^{\\frac{1}{6}}$\n",
    "\n",
    "$\\int\\frac{\\sqrt[3]{x}}{\\sqrt[3]{x^{2}}-\\sqrt{x}}dx=6\\int\\frac{t^{7}}{t^{4}-t^{3}}dt=6\\int\\frac{t^{4}}{t-1}dt=6\\int\\frac{(t-1)(t+1)(t^{2}+1))}{t-1}dt+6\\int\\frac{1}{t-1}dt=6\\frac{t^{4}}{4}+6\\frac{t^{3}}{3}+6\\frac{t^{2}}{2}+6t+6ln(|t-1|)+C=\\frac{3\\sqrt[3]x^{2}}{2}+2\\sqrt{x}+3\\sqrt[3]x+6\\sqrt[6]{x}+6ln(|\\sqrt[6]{x}-1|)+C$"
   ]
  },
  {
   "cell_type": "markdown",
   "id": "34f5ba94",
   "metadata": {},
   "source": [
    "$12)\\int \\sqrt[3]{x}·\\sqrt[3]{1+3·\\sqrt[3]{x^{2}}}dx$\n",
    "\n",
    "$t=1+3·\\sqrt[3]{x^{2}}, dt=\\frac{2}{\\sqrt[3]{x}}dx=>dx=\\frac{\\sqrt[3]{x}dt}{2}$\n",
    "\n",
    "$\\int \\sqrt[3]{x}·\\sqrt[3]{1+3·\\sqrt[3]{x^{2}}}dx=\\frac{1}{6}\\int (t^\\frac{4}{3}-t^\\frac{1}{3})dt=\\frac{1}{6}\\int t^\\frac{4}{3}dt-\\frac{1}{6}\\int t^\\frac{1}{3}dt=\\frac{t^\\frac{7}{3}}{14}-\\frac{t^\\frac{4}{3}}{8}+C=\\frac{(1+3·\\sqrt[3]{x^{2}})^\\frac{7}{3}}{14}-\\frac{(1+3·\\sqrt[3]{x^{2}})^\\frac{4}{3}}{8}+C$"
   ]
  },
  {
   "cell_type": "markdown",
   "id": "995ba03d",
   "metadata": {},
   "source": [
    "$13)\\int\\frac{dx}{sin(x)sin(2x)}=\\frac{1}{2}\\int\\frac{dx}{sin^{2}(x)cos(x)}$\n",
    "\n",
    "$t=sin^{2}(x), dt=2cos(x)dx=> dx=\\frac{dt}{2cos(x)}$\n",
    "\n",
    "$\\int\\frac{dx}{sin(x)sin(2x)}=\\frac{1}{4}\\int\\frac{dt}{t(1-t)}=-\\frac{1}{4}\\int\\frac{dt}{t^{2}(1-\\frac{1}{t})}$\n",
    "\n",
    "$u=1-\\frac{1}{t}, du=\\frac{1}{t^{2}}dt=> dt=t^{2}du$\n",
    "\n",
    "$\\int\\frac{dx}{sin(x)sin(2x)}=-\\frac{1}{4}\\int\\frac{du}{u}=-\\frac{1}{4}ln(|u|)+C=-\\frac{1}{4}ln(|1-\\frac{1}{t}|)+C=-\\frac{1}{4}ln(|1-\\frac{1}{sin^{2}(x)}|)+C$"
   ]
  },
  {
   "cell_type": "markdown",
   "id": "25868618",
   "metadata": {},
   "source": [
    "$14)\\int cos(3x)cos(5x)dx=\\frac{1}{2}\\int (cos(3x+5x)+cos(5x-3x))dx=\\frac{1}{2}\\int (cos(8x)+cos(2x))dx=\\frac{1}{2}\\int cos(8x)dx+\\frac{1}{2}\\int cos(2x)dx=\\frac{1}{16}sin(8x)+\\frac{1}{4}sin(2x)+C$"
   ]
  },
  {
   "cell_type": "markdown",
   "id": "4feba3f2",
   "metadata": {},
   "source": [
    "$15)\\int_{0}^{\\pi}(2x+sin(2x))dx=\\int_{0}^{\\pi}2x+\\int_{0}^{\\pi}sin(2x)=x^2|_{0}^{\\pi}-\\frac{cos(2x)}{2}|_{0}^{\\pi}=\\pi^{2}-0-\\frac{1}{2}+\\frac{1}{2}=\\pi^{2}$"
   ]
  },
  {
   "cell_type": "markdown",
   "id": "6959e719",
   "metadata": {},
   "source": [
    "$16)\\int_{\\frac{1}{2}}^{1}\\sqrt{4x-2}dx$\n",
    "\n",
    "$t=4x-2, dt=4dx=> dx=\\frac{dt}{4}$\n",
    "\n",
    "$\\int_{\\frac{1}{2}}^{1}\\sqrt{4x-2}dx=\\frac{1}{4}\\int_{\\frac{1}{2}}^{1}\\sqrt{t}dt=\\frac{t^{\\frac{3}{2}}}{6}=\\frac{(4x-2)^{\\frac{3}{2}}}{6}|_{\\frac{1}{2}}^{1}=\\frac{2\\sqrt{2}}{6}-0=\\frac{\\sqrt{2}}{3}$"
   ]
  },
  {
   "cell_type": "markdown",
   "id": "034632c6",
   "metadata": {},
   "source": [
    "$17)\\int_{0}^{+∞}e^{-4x}dx=-\\frac{e^{-4x}}{4}|_{0}^{+∞}=0+\\frac{1}{4}=\\frac{1}{4}$"
   ]
  },
  {
   "cell_type": "markdown",
   "id": "9371827a",
   "metadata": {},
   "source": [
    "$18)\\int_{0}^{1}ln(x)dx=$\n",
    "\n",
    "$u=ln(x), dv=dx, du=\\frac{1}{x}, v=x$\n",
    "\n",
    "$\\int_{0}^{1}ln(x)dx=xln(x)-\\int_{0}^{1}dx=xln(x)-x|_{0}^{1}=-1$"
   ]
  }
 ],
 "metadata": {
  "kernelspec": {
   "display_name": "Python 3 (ipykernel)",
   "language": "python",
   "name": "python3"
  },
  "language_info": {
   "codemirror_mode": {
    "name": "ipython",
    "version": 3
   },
   "file_extension": ".py",
   "mimetype": "text/x-python",
   "name": "python",
   "nbconvert_exporter": "python",
   "pygments_lexer": "ipython3",
   "version": "3.9.7"
  }
 },
 "nbformat": 4,
 "nbformat_minor": 5
}

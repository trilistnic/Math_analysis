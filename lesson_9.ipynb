{
 "cells": [
  {
   "cell_type": "markdown",
   "id": "ea4fad7c",
   "metadata": {},
   "source": [
    "### 1) Найти $\\frac{dz}{dt}$, если $z = z(x; y), x = x(t), y = y(t)$:"
   ]
  },
  {
   "cell_type": "markdown",
   "id": "31ff8290",
   "metadata": {},
   "source": [
    "$1)z=x^{2}+y^{2}+xy$\n",
    "\n",
    "$x=a·sin(t), y=a·cos(t)$\n",
    "\n",
    "$z(t)=a^{2}·sin^{2}(t)+a^{2}·cos^{2}(t)+a^{2}·sin(t)·cos(t)=a^{2}+\\frac{a^{2}}{2}·sin(2t)$\n",
    "\n",
    "$\\frac{dz}{dt}=a^{2}·cos(2t)$"
   ]
  },
  {
   "cell_type": "markdown",
   "id": "833d9b9b",
   "metadata": {},
   "source": [
    "$2)z=x^{2}y^{3}u$\n",
    "\n",
    "$x=t, y=t^{2}, u=sin(t)$\n",
    "\n",
    "$z(t)=t^{2}·t^{2^{3}}·sin(t)=t^{8}·sin(t)$\n",
    "\n",
    "$\\frac{dz}{dt}=8t^{7}·sin(t)+t^{8}·cos(t)$"
   ]
  },
  {
   "cell_type": "markdown",
   "id": "5de54b84",
   "metadata": {},
   "source": [
    "### 2) Для данных $z = f(x; y), x = x(u; v), y = y(u; v)$ найти $\\frac{\\partial z}{\\partial u}, \\frac{\\partial z}{\\partial v}$ и $dz$:"
   ]
  },
  {
   "cell_type": "markdown",
   "id": "89eb9788",
   "metadata": {},
   "source": [
    "$\\frac{\\partial z}{\\partial u}=\\frac{\\partial z}{\\partial x}\\frac{\\partial x}{\\partial u}+\\frac{\\partial z}{\\partial y}\\frac{\\partial y}{\\partial u}$\n",
    "\n",
    "$\\frac{\\partial z}{\\partial v}=\\frac{\\partial z}{\\partial x}\\frac{\\partial x}{\\partial v}+\\frac{\\partial z}{\\partial y}\\frac{\\partial y}{\\partial v}$\n",
    "\n",
    "$dz=\\frac{\\partial z}{\\partial u}du+\\frac{\\partial z}{\\partial v}dv$"
   ]
  },
  {
   "cell_type": "markdown",
   "id": "a39eef1f",
   "metadata": {},
   "source": [
    "$1)z=x^{3}+y^{3}$, где $x=uv,y=\\frac{u}{v}$\n",
    "\n",
    "$\\frac{\\partial z}{\\partial x}=3x^{2}, \\frac{\\partial z}{\\partial y}=3y^{2}$\n",
    "\n",
    "$\\frac{\\partial x}{\\partial u}=v,\\frac{\\partial y}{\\partial u}=\\frac{1}{v}$\n",
    "\n",
    "$\\frac{\\partial x}{\\partial v}=u, \\frac{\\partial y}{\\partial v}=-\\frac{u}{v^{2}}$\n",
    "\n",
    "$\\frac{\\partial z}{\\partial u}=3x^{2}v+\\frac{3y^{2}}{v}=3u^{2}v^{3}+\\frac{3u^{2}}{v^{3}}=3u^{2}(v^{3}+\\frac{1}{v^{3}})$\n",
    "\n",
    "$\\frac{\\partial z}{\\partial v}=3x^{2}u-\\frac{3y^{2}u}{v^{2}}=3u^{3}v^{2}-\\frac{3u^{3}}{v^{4}}=3u^{3}(v^{2}-\\frac{1}{v^{4}})$\n",
    "\n",
    "$dz=3u^{2}(v^{3}+\\frac{1}{v^{3}})du+3u^{3}(v^{2}-\\frac{1}{v^{4}})dv$"
   ]
  },
  {
   "cell_type": "markdown",
   "id": "fae2595f",
   "metadata": {},
   "source": [
    "$2)z=cos(xy)$, где $x=u·e^{v}, y=v·ln(u)$\n",
    "\n",
    "$\\frac{\\partial z}{\\partial x}=-sin(xy), \\frac{\\partial z}{\\partial y}=-sin(xy)$\n",
    "\n",
    "$\\frac{\\partial x}{\\partial u}=e^{v},\\frac{\\partial y}{\\partial u}=\\frac{v}{u}$\n",
    "\n",
    "$\\frac{\\partial x}{\\partial v}=u·e^{v}, \\frac{\\partial y}{\\partial v}=ln(u)$\n",
    "\n",
    "$\\frac{\\partial z}{\\partial u}=-e^{v}·sin(xy)-\\frac{v·sin(xy)}{u}=-(e^{v}+\\frac{v}{u})·sin(uv·e^{v}·ln(u))$\n",
    "\n",
    "$\\frac{\\partial z}{\\partial v}=-u·e^{v}·sin(xy)-ln(u)·sin(xy)=-(u·e^{v}+ln(u))·sin(uv·e^{v}·ln(u))$\n",
    "\n",
    "$dz=-(e^{v}+\\frac{v}{u})·sin(uv·e^{v}·ln(u))du-(u·e^{v}+ln(u))·sin(uv·e^{v}·ln(u))dv$"
   ]
  },
  {
   "cell_type": "markdown",
   "id": "78a583d4",
   "metadata": {},
   "source": [
    "### 3) Найти производные $y'(x)$ неявных функций, заданных уравнениями:"
   ]
  },
  {
   "cell_type": "markdown",
   "id": "4ce1f0c1",
   "metadata": {},
   "source": [
    "$x·e^{2y}−y·ln(x)=8$\n",
    "\n",
    "$F(x;y)=x·e^{2y}−y·ln(x)-8$\n",
    "\n",
    "$F'_{x}(x;y)=e^{2y}-\\frac{y}{x}$\n",
    "\n",
    "$F'_{y}(x;y)=2x·e^{2y}-ln(x)$\n",
    "\n",
    "$y'(x)=-\\frac{F'_{x}(x;y)}{F'_{y}(x;y)}=-\\frac{e^{2y}-\\frac{y}{x}}{2x·e^{2y}-ln(x)}$\n",
    "\n",
    "$2x·e^{2y}-ln(x) \\ne 0=> y \\ne \\frac{ln(ln(x))-ln(2x)}{2}$"
   ]
  },
  {
   "cell_type": "markdown",
   "id": "e22f9592",
   "metadata": {},
   "source": [
    "### 4) Составить уравнение касательной прямой и нормали к кривой $y = y(x)$, заданной уравнением $F(x; y)=0$ в точке $M_{0}(x_{0}; y_{0})$:"
   ]
  },
  {
   "cell_type": "markdown",
   "id": "36ace7fe",
   "metadata": {},
   "source": [
    "$x^{3}y-y^{3}x=6$\n",
    "\n",
    "$M_{0}(2;1)$\n",
    "\n",
    "$F(x;y)=x^{3}y-y^{3}x-6$\n",
    "\n",
    "$F(2;1)=8-2-6=0$\n",
    "\n",
    "$F'_{x}(x;y)=3x^{2}y-y^{3}=> F_{x}(x_{0};y_{0})=12-1=11$\n",
    "\n",
    "$F'_{y}(x;y)=x^{3}-3y^{2}x=> F_{y}(x_{0};y_{0})=8-6=2\\ne0$\n",
    "\n",
    "$y-y_{0}=k(x-x_{0})$, где $k=y'(x_{0};y_{0})=-\\frac{F'_{x}(x_{0};y_{0})}{F'_{y}(x_{0};y_{0})}=-\\frac{11}{2}$\n",
    "\n",
    "$y-1=-\\frac{11}{2}(x-2)=>y=-\\frac{11x}{2}x+12$ - уравнение касательной прямой\n",
    "\n",
    "$y-y_{0}=-\\frac{1}{k}(x-x_{0})=> y-1=\\frac{2x}{11}-\\frac{4}{11}=>y=\\frac{2x+7}{11}$- уравнение нормали к кривой"
   ]
  },
  {
   "cell_type": "markdown",
   "id": "7ca9e9e3",
   "metadata": {},
   "source": [
    "### 5) Для данных функций найти требуемую частную производную или дифференциал:"
   ]
  },
  {
   "cell_type": "markdown",
   "id": "459c3035",
   "metadata": {},
   "source": [
    "$1)z=sin(x)·sin(y), d^{2}z$\n",
    "\n",
    "$d^{2}z=\\frac{\\partial^{2} z}{\\partial x^{2}}dx^{2}+2\\frac{\\partial^{2} z}{\\partial x\\partial y}dxdy+\\frac{\\partial^{2} z}{\\partial y^{2}}dy^{2}$\n",
    "\n",
    "$\\frac{\\partial z}{\\partial x}=cos(x)·sin(y), \\frac{\\partial^{2} z}{\\partial x^{2}}=-sin(x)·sin(y)$\n",
    "\n",
    "$\\frac{\\partial z}{\\partial x}=cos(x)·sin(y), \\frac{\\partial^{2} z}{\\partial x\\partial y}=cos(x)·cos(y)$\n",
    "\n",
    "$\\frac{\\partial z}{\\partial y}=sin(x)·cos(y), \\frac{\\partial^{2} z}{\\partial y^{2}}=-sin(x)·sin(y)$\n",
    "\n",
    "$d^{2}z=-sin(x)·sin(y)·dx^{2}+2cos(x)·cos(y)·dxdy-sin(x)·sin(y)·dy^{2}$"
   ]
  },
  {
   "cell_type": "markdown",
   "id": "6711ec43",
   "metadata": {},
   "source": [
    "$2)z=xy+sin(x + y),\\frac{\\partial^{2} z}{\\partial x^{2}}$\n",
    "\n",
    "$\\frac{\\partial z}{\\partial x}=y+cos(x+y)$\n",
    "\n",
    "$\\frac{\\partial^{2} z}{\\partial x^{2}}=-sin(x+y)$"
   ]
  },
  {
   "cell_type": "markdown",
   "id": "c98e6fe2",
   "metadata": {},
   "source": [
    "$3)z=arctg(\\frac{x+y}{1-xy}),\\frac{\\partial^{2} z}{\\partial x \\partial y}$\n",
    "\n",
    "$\\frac{\\partial z}{\\partial x}=\\frac{1}{1+(\\frac{x+y}{1-xy})^{2}}·\\frac{1-xy+y(x+y)}{(1-xy)^{2}}=\\frac{1+y^{2}}{(1-xy)^{2}(x+y)^{2}}=\\frac{1+y^{2}}{(1+y^{2})(1+x^{2})}=\\frac{1}{1+x^{2}}$\n",
    "\n",
    "$\\frac{\\partial^{2} z}{\\partial x \\partial y}=0$"
   ]
  },
  {
   "cell_type": "markdown",
   "id": "70e88d47",
   "metadata": {},
   "source": [
    "### 6) Найти $y',y''$ и $y'''$ для неявной функции $y = y(x)$, заданной неявно уравнением $x^{2}−xy+2y^{2}+x-y=1$ при $x = 0$, если $y(0) = 1$"
   ]
  },
  {
   "cell_type": "markdown",
   "id": "29f0fc91",
   "metadata": {},
   "source": [
    "$x^{2}−xy+2y^{2}+x-y-1=0$\n",
    "\n",
    "$2x-y-xy'+4yy'+1-y'=0=>0-1-0+4y'+1-y'=0=>y'=0$\n",
    "\n",
    "$2-y'-y'-xy''+4(y')^{2}+4yy''-y''=0=>2-2y'-xy''+4(y')^{2}+4yy''-y''=0=>2-0-0+0+4y''-y''=0=>y''=-\\frac{2}{3}$\n",
    "\n",
    "$-2y''-y''-xy'''+8y'y''+4(y'')^{2}+4yy'''-y'''=0=>2-0+0+\\frac{16}{9}+4y'''-y'''=0=>y'''=-\\frac{34}{27}$"
   ]
  },
  {
   "cell_type": "markdown",
   "id": "57226da8",
   "metadata": {},
   "source": [
    "### 7) Для функции $z=arctg(\\frac{y}{x})$ построить линии уровня и градиент. Сравнить их направления в точках $(1; 1),(1; −1)$"
   ]
  },
  {
   "cell_type": "markdown",
   "id": "34601b02",
   "metadata": {},
   "source": [
    "$A(1;1), B(1;-1), \\overline{AB}=(0;-2)$\n",
    "\n",
    "$|\\overline{AB}|=\\sqrt{0^{2}+(-2)^{2}}=2=>cos\\alpha=-1,sin\\alpha=0$\n",
    "\n",
    "$z'_{x}=-\\frac{y}{x^{2}·(1+\\frac{y^{2}}{x^{2}})}=-\\frac{y}{x^{2}+y^{2}}$\n",
    "\n",
    "$z'_{y}=\\frac{1}{x·(1+\\frac{y^{2}}{x^{2}})}=\\frac{x}{x^{2}+y^{2}}$\n",
    "\n",
    "$z'_{x}(1;1)=-\\frac{1}{2}, z'_{y}(1;1)=\\frac{1}{2}=> \\overline{grad}z(1;1)=(-\\frac{1}{2};\\frac{1}{2}), \\frac{\\partial z}{\\partial l}=-\\frac{1}{2}·-1+\\frac{1}{2}·0=\\frac{1}{2}$ функция возрастает \n",
    "\n",
    "$z'_{x}(1;-1)=\\frac{1}{2}, z'_{y}(1;-1)=\\frac{1}{2}=> \\overline{grad}z(1;-1)=(\\frac{1}{2};\\frac{1}{2}), \\frac{\\partial z}{\\partial l}=\\frac{1}{2}·-1+\\frac{1}{2}·0=-\\frac{1}{2}$ функция убывает"
   ]
  }
 ],
 "metadata": {
  "kernelspec": {
   "display_name": "Python 3 (ipykernel)",
   "language": "python",
   "name": "python3"
  },
  "language_info": {
   "codemirror_mode": {
    "name": "ipython",
    "version": 3
   },
   "file_extension": ".py",
   "mimetype": "text/x-python",
   "name": "python",
   "nbconvert_exporter": "python",
   "pygments_lexer": "ipython3",
   "version": "3.9.7"
  }
 },
 "nbformat": 4,
 "nbformat_minor": 5
}

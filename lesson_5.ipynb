{
 "cells": [
  {
   "cell_type": "markdown",
   "id": "398741ca",
   "metadata": {},
   "source": [
    "### 1) Найти пределы\n",
    "$1)lim_{x→∞}(ln(x+3)-ln(x))=lim_{x→∞}ln\\frac{x+3}{x}=lim_{x→∞}ln(1+\\frac{3}{x})=lim_{y→0}ln(1+3y)=lim_{y→0}3y+o(3y)=0$"
   ]
  },
  {
   "cell_type": "markdown",
   "id": "dcf177b8",
   "metadata": {},
   "source": [
    "$2)lim_{x→0}\\frac{ln(1+2x)}{arcsin(3x)}=lim_{x→0}\\frac{2x+o(2x)}{3x+0(3x)}=\\frac{2}{3}$"
   ]
  },
  {
   "cell_type": "markdown",
   "id": "0b225681",
   "metadata": {},
   "source": [
    "$3)lim_{a→0}\\frac{(x+a)^{3}-x^{3}}{a}=lim_{a→0}\\frac{(x+a-x)((x+a)^{2}+(x+a)x+x^{2})}{a}=3x^{2}$"
   ]
  },
  {
   "cell_type": "markdown",
   "id": "e8157e2d",
   "metadata": {},
   "source": [
    "$4)lim_{x→0}\\frac{1-cos(4x)}{2x*tg(2x)}=lim_{x→0}\\frac{1-1+\\frac{(4x)^{2}}{2}-o((4x)^{2})}{2x*(2x+o(2x))}=lim_{x→0}\\frac{8x^{2}-o(x^{2})}{4x^{2}+o(x^{2})}=\\frac{8}{4}=2$"
   ]
  },
  {
   "cell_type": "markdown",
   "id": "b0753c92",
   "metadata": {},
   "source": [
    "$5)lim_{x→∞}x*sin(\\frac{2}{x})=lim_{y→0}\\frac{1}{y}*sin(2y)=lim_{y→0}\\frac{2y+o(2y)}{y}=2$"
   ]
  },
  {
   "cell_type": "markdown",
   "id": "0df81f48",
   "metadata": {},
   "source": [
    "$6)lim_{x→0}(1+tg(x))^{ctg(x)}=lim_{x→0}(1+tg(x))^{\\frac{1}{tg(x)}}=lim_{x→0}(1+tg(x)*\\frac{1}{tg(x)}+o(tg(x))=1$"
   ]
  },
  {
   "cell_type": "markdown",
   "id": "e443d8d2",
   "metadata": {},
   "source": [
    "$7)lim_{x→0}\\frac{\\sqrt{1+x*sin(x)}-1}{x^{2}}=lim_{x→0}\\frac{1+\\frac{x*sin(x)}{2}+o(x*sin(x))-1}{x^{2}}=lim_{x→0}\\frac{x^{2}+o(x^{2})}{2x^{2}}=\\frac{1}{2}$"
   ]
  },
  {
   "cell_type": "markdown",
   "id": "91318caf",
   "metadata": {},
   "source": [
    "### 2) Установить характер разрыва функции в точке x0:\n",
    "$1)f(x)=\\frac{x^{2}-16}{x+4}, x0 = −4$\n",
    "\n",
    "$lim_{x→-4-0}\\frac{x^{2}-16}{x+4}=lim_{x→-4-0}\\frac{(x-4)(x+4)}{x+4}=lim_{x→-4-0}x-4=-8$\n",
    "\n",
    "$lim_{x→-4+0}\\frac{x^{2}-16}{x+4}=lim_{x→-4+0}\\frac{(x-4)(x+4)}{x+4}=lim_{x→-4+0}x-4=-8$\n",
    "\n",
    "$lim_{x→-4-0}f(x)=lim_{x→-4+0}f(x)$, но функция не определена в точке x0 = −4\n",
    "\n",
    "=> Функция имеет в точке x0 = −4 устранимый разрыв первого рода"
   ]
  },
  {
   "cell_type": "markdown",
   "id": "c8985ead",
   "metadata": {},
   "source": [
    "$2)f(x)=\\frac{sin(x)}{x}, x0 = 0$\n",
    "\n",
    "$lim_{x→0-0}\\frac{sin(x)}{x}=lim_{x→0-0}1=1$\n",
    "\n",
    "$lim_{x→0+0}\\frac{sin(x)}{x}=lim_{x→0+0}1=1$\n",
    "\n",
    "$lim_{x→0-0}f(x)=lim_{x→0+0}f(x)$, но функция не определена в точке x0 = 0\n",
    "\n",
    "=> Функция имеет в точке x0 = 0 устранимый разрыв первого рода"
   ]
  },
  {
   "cell_type": "markdown",
   "id": "592cf9c9",
   "metadata": {},
   "source": [
    "### 3) Исследовать на непрерывность функцию f(x) в точке x0:\n",
    "$1)f(x)=arctg\\frac{2}{x-1}, x0 = 1$\n",
    "\n",
    "$lim_{x→1-0}arctg\\frac{2}{x-1}=lim_{y→-∞}arctg(y)=-\\frac{\\pi}{2}$\n",
    "\n",
    "$lim_{x→1+0}arctg\\frac{2}{x-1}=lim_{y→+∞}arctg(y)=\\frac{\\pi}{2}$\n",
    "\n",
    "$lim_{x→1-0}f(x) \\neq lim_{x→1+0}f(x)$\n",
    "\n",
    "=> Функция имеет в точке x0 = 1 разрыв первого рода"
   ]
  },
  {
   "cell_type": "markdown",
   "id": "8821d0cb",
   "metadata": {},
   "source": [
    "$2)f(x)=\\frac{1}{2^{x-3}-1}, x0 = 3$\n",
    "\n",
    "$lim_{x→3-0}\\frac{1}{2^{x-3}-1}=lim_{x→0-0}\\frac{8}{2^{x}-8}=-∞$\n",
    "\n",
    "$lim_{x→3+0}\\frac{1}{2^{x-3}-1}=lim_{x→0+0}\\frac{8}{2^{x}-8}=+∞$\n",
    "\n",
    "$lim_{x→0-0}f(x) \\nexists, lim_{x→0+0}f(x) \\nexists$\n",
    "\n",
    "=> Функция имеет в точке x0 = 3 разрыв второго рода"
   ]
  },
  {
   "cell_type": "markdown",
   "id": "389647ad",
   "metadata": {},
   "source": [
    "### 4*) Исследуйте функцию на непрерывность, укажите тип точек разрыва и построить график функции:\n",
    "$f(x)=\n",
    "\\begin{cases}\n",
    "cos(\\frac{\\pi*x}{2}), |x|<=1 \\\\\n",
    "|x-1|, |x|>=1\n",
    "\\end{cases}$"
   ]
  },
  {
   "cell_type": "markdown",
   "id": "1facf004",
   "metadata": {},
   "source": [
    "Обе ункции непрерывны на всей числовой прямой.\n",
    "\n",
    "$x_{1}=-1, x_{2}=1$\n",
    "\n",
    "$lim_{x→-1-0}f(x)=lim_{x→-1-0}|x-1|=2$\n",
    "\n",
    "$lim_{x→-1+0}f(x)=lim_{x→-1+0}cos\\frac{\\pi * x}{2}=0$\n",
    "\n",
    "$lim_{x→-1-0}f(x) \\neq lim_{x→-1+0}f(x)$\n",
    "\n",
    "=> Функция имеет в точке x1 = -1 разрыв первого рода, скачок функции -2\n",
    "\n",
    "$lim_{x→1-0}f(x)=lim_{x→1-0}cos\\frac{\\pi * x}{2}=0$\n",
    "\n",
    "$lim_{x→1+0}f(x)=lim_{x→1+0}|x-1|=0$\n",
    "\n",
    "$lim_{x→1-0}f(x) = lim_{x→1+0}f(x)$\n",
    "\n",
    "=> Функция не имеет в точке x2 = 1 разрыва"
   ]
  },
  {
   "cell_type": "code",
   "execution_count": 9,
   "id": "68f53053",
   "metadata": {},
   "outputs": [],
   "source": [
    "import matplotlib.pyplot as plt\n",
    "import numpy as np"
   ]
  },
  {
   "cell_type": "code",
   "execution_count": 33,
   "id": "6a63bff4",
   "metadata": {},
   "outputs": [
    {
     "data": {
      "text/plain": [
       "[<matplotlib.lines.Line2D at 0x153174abe50>,\n",
       " <matplotlib.lines.Line2D at 0x153174abe80>]"
      ]
     },
     "execution_count": 33,
     "metadata": {},
     "output_type": "execute_result"
    },
    {
     "data": {
      "image/png": "[encoded data removed]",
      "text/plain": [
       "<Figure size 432x288 with 1 Axes>"
      ]
     },
     "metadata": {
      "needs_background": "light"
     },
     "output_type": "display_data"
    }
   ],
   "source": [
    "x = np.linspace(-5, 5, 1000)\n",
    "y = np.cos(np.pi * x / 2)\n",
    "y = np.ma.masked_where(abs(x) >= 1, y)\n",
    "\n",
    "y1 = abs(x -1)\n",
    "y1 = np.ma.masked_where(abs(x) <= 1, y1)\n",
    "\n",
    "# Построение графика\n",
    "plt.xlabel(\"x\") # ось абсцисс\n",
    "plt.ylabel(\"y\") # ось ординат\n",
    "plt.grid()      # включение отображение сетки\n",
    "plt.plot(x, y, x, y1)  # построение графика"
   ]
  },
  {
   "cell_type": "markdown",
   "id": "786b2abf",
   "metadata": {},
   "source": [
    "### 5*) Вычислить:\n",
    "$lim_{x→0}\\frac{sin(sin(tg(\\frac{x^{2}}{2})))}{ln(cos(3x))}=lim_{x→0}\\frac{1*sin(tg(\\frac{x^{2}}{2}))}{ln(cos(3x))}=lim_{x→0}\\frac{1*tg(\\frac{x^{2}}{2})}{ln(cos(3x))}=lim_{x→0}\\frac{\\frac{x^{2}}{2}+o(\\frac{x^{2}}{2})}{ln(cos(3x))}=lim_{x→0}\\frac{\\frac{x^{2}}{2}+o(\\frac{x^{2}}{2})}{cos(3x)-1}=lim_{x→0}\\frac{\\frac{x^{2}}{2}+o(\\frac{x^{2}}{2})}{1-\\frac{(3x)^{2}}{2}+o(3x^{2})-1}=\\frac{1}{9}$"
   ]
  }
 ],
 "metadata": {
  "kernelspec": {
   "display_name": "Python 3 (ipykernel)",
   "language": "python",
   "name": "python3"
  },
  "language_info": {
   "codemirror_mode": {
    "name": "ipython",
    "version": 3
   },
   "file_extension": ".py",
   "mimetype": "text/x-python",
   "name": "python",
   "nbconvert_exporter": "python",
   "pygments_lexer": "ipython3",
   "version": "3.9.7"
  }
 },
 "nbformat": 4,
 "nbformat_minor": 5
}

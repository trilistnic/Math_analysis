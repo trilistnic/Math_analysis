{
 "cells": [
  {
   "cell_type": "markdown",
   "id": "4b3e8ee1",
   "metadata": {},
   "source": [
    "### 1) Решить уравнения:"
   ]
  },
  {
   "cell_type": "markdown",
   "id": "db40a850",
   "metadata": {},
   "source": [
    "$1)y'−y=2x−3$\n",
    "\n",
    "$y'=y+2x-3$\n",
    "\n",
    "$z=y+2x-3$\n",
    "\n",
    "$y=z-2x+3=>y'=z'-2=>z'-2=z$\n",
    "\n",
    "$\\frac{dz}{dx}=z+2=>\\frac{dz}{z+2}=dx$\n",
    "\n",
    "$\\int\\frac{dz}{z+2}=\\int dx$\n",
    "\n",
    "$t=z+2=>dt=dz$\n",
    "\n",
    "$ln(z+2)=x+C$\n",
    "\n",
    "$z+2=e^{x+C}$\n",
    "\n",
    "$y+2x-3+2=e^{x+C}$\n",
    "\n",
    "$y=Ce^{x}-2x+1$"
   ]
  },
  {
   "cell_type": "markdown",
   "id": "ba4448a7",
   "metadata": {},
   "source": [
    "$2)x^{2}y'+xy+1=0$\n",
    "\n",
    "$\\frac{x^{2}dy}{dx}+xy+1=0$\n",
    "\n",
    "$z=\\frac{1}{y}=>y=\\frac{1}{y}=>dy=-\\frac{dz}{z^{2}}$\n",
    "\n",
    "$-\\frac{x^{2}dz}{z^{2}dx}+\\frac{x}{z}+1=0$\n",
    "\n",
    "$-\\frac{x^{2}dz}{z^{2}}+\\frac{xdx}{z}+dx=0$\n",
    "\n",
    "$u=/frac{z}{x}=>z=ux dz=xdu+udx$\n",
    "\n",
    "$-\\frac{x^{2}(xdu+udx)}{(ux)^{2}}+\\frac{xdx}{ux}+dx=0$\n",
    "\n",
    "$-\\frac{xdu+udx}{u^{2}}+\\frac{dx}{u}+dx=0$\n",
    "\n",
    "$-\\frac{xdu}{u^{2}}+dx=0$\n",
    "\n",
    "$\\frac{du}{u^{2}}=\\frac{dx}{x}$\n",
    "\n",
    "$\\int\\frac{du}{u^{2}}=\\int\\frac{dx}{x}$\n",
    "\n",
    "$-\\frac{1}{u}=ln(|x|)+C$\n",
    "\n",
    "$-\\frac{x}{z}=ln(|x|)+C$\n",
    "\n",
    "$-xy=ln(|x|)+C$\n",
    "\n",
    "$y=-\\frac{ln(|x|)+C}{x}$"
   ]
  },
  {
   "cell_type": "markdown",
   "id": "014b3956",
   "metadata": {},
   "source": [
    "### 2) Исследовать ряд на сходимость:"
   ]
  },
  {
   "cell_type": "markdown",
   "id": "e7270c88",
   "metadata": {},
   "source": [
    "$1)\\sum_{n=1}^{∞}\\frac{n+2}{n^{2}+n+1}$\n",
    "\n",
    "$\\frac{n+2}{n^{2}+n+1}~\\frac{n}{n^{2}}=\\frac{1}{n}$\n",
    "\n",
    "$\\sum_{n=1}^{∞}\\frac{n+2}{n^{2}+n+1}=lim_{n→∞}\\frac{1}{n}$\n",
    "\n",
    "$\\int_{1}^{∞}\\frac{1}{n}dn=ln(|n|)|_{1}^{∞}=∞-0=∞$\n",
    "\n",
    "несобственный интеграл расходится=> ряд расходится"
   ]
  },
  {
   "cell_type": "markdown",
   "id": "f098c803",
   "metadata": {},
   "source": [
    "$2)\\sum_{n=1}^{∞}\\frac{n^{n}}{n!}$\n",
    "\n",
    "$\\frac{a_{n+1}}{a_{n}}=\\frac{(n+1)^{n+1}}{n^n}\\frac{n!}{(n+1)!}=\\frac{(n+1)(n+1)^{n}n!}{n^{n}n!(n+1)}=\\frac{(n+1)^{n}}{n^{n}}$\n",
    "\n",
    "$lim_{n->∞}\\frac{a_{n+1}}{a_{n}}=lim_{n->∞}\\frac{(n+1)^{n}}{n^{n}}=e$\n",
    "\n",
    "e > 1 => ряд расходится"
   ]
  },
  {
   "cell_type": "markdown",
   "id": "9de3d38f",
   "metadata": {},
   "source": [
    "$3)\\sum_{n=1}^{∞}n·(1-\\frac{1}{n})^{n^{2}}$\n",
    "\n",
    "$\\sqrt[n]{a_{n}}=\\sqrt[n]{n}·(1-\\frac{1}{n})^{n}$\n",
    "\n",
    "$lim_{n->∞}\\sqrt[n]{a_{n}}=lim_{n->∞}\\sqrt[n]{n}·(1-\\frac{1}{n})^{n}=1·e^{-1}<1$\n",
    "\n",
    "ряд сходится"
   ]
  },
  {
   "cell_type": "markdown",
   "id": "5fba1a12",
   "metadata": {},
   "source": [
    "$4)\\sum_{n=1}^{∞}\\frac{(-1)^{n+1}}{2n-ln(n)}$\n",
    "\n",
    "$a_{n}=\\frac{1}{2n-ln(n)}>\\frac{1}{2n+2-ln(n+1)}=a_{n+1}$\n",
    "\n",
    "$lim_{n->∞}\\frac{1}{2n-ln(n)}~lim_{n->∞}\\frac{1}{2n}=0$\n",
    "\n",
    "$\\int_{1}^{∞}\\frac{1}{2n}dn=\\frac{ln(n)}{2}|_{1}^{∞}=∞-0=∞$\n",
    "\n",
    "ряд сходится условно"
   ]
  },
  {
   "cell_type": "markdown",
   "id": "d2fa8789",
   "metadata": {},
   "source": [
    "$5)\\sum_{n=1}^{∞}\\frac{(x-2)^{n+1}}{3^{n}(n+2)}$\n",
    "\n",
    "$\\frac{a_{n+1}}{a_{n}}=\\frac{(x-2)^{n+2}3^{n}(n+2)}{3^{n+1}(n+3)(x-2)^(n+1)}=\\frac{(x-2)(n+2)}{3(n+3)}$\n",
    "\n",
    "$x=2$ ряд сходится"
   ]
  }
 ],
 "metadata": {
  "kernelspec": {
   "display_name": "Python 3 (ipykernel)",
   "language": "python",
   "name": "python3"
  },
  "language_info": {
   "codemirror_mode": {
    "name": "ipython",
    "version": 3
   },
   "file_extension": ".py",
   "mimetype": "text/x-python",
   "name": "python",
   "nbconvert_exporter": "python",
   "pygments_lexer": "ipython3",
   "version": "3.9.7"
  }
 },
 "nbformat": 4,
 "nbformat_minor": 5
}

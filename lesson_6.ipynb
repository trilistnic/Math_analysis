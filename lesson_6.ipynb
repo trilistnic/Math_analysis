{
 "cells": [
  {
   "cell_type": "markdown",
   "id": "df7e6ecc",
   "metadata": {},
   "source": [
    "### 1) Найти производные указанных функций:\n",
    "$1)y=−10arctg(x)+7·e^{x}$"
   ]
  },
  {
   "cell_type": "markdown",
   "id": "1777de3a",
   "metadata": {},
   "source": [
    "$y'(x)=(−10arctg(x)+7·e^{x})'=(−10arctg(x))'+(7·e^{x})'=-\\frac{10}{1+x^{2}}+7e^{x}$"
   ]
  },
  {
   "cell_type": "markdown",
   "id": "3993f057",
   "metadata": {},
   "source": [
    "$2)y=\\frac{1}{\\sqrt[3]{x^{2}}}-\\frac{2}{x^{3}}+\\sqrt{7}·x$"
   ]
  },
  {
   "cell_type": "markdown",
   "id": "95ad2a98",
   "metadata": {},
   "source": [
    "$y'(x)=(\\frac{1}{\\sqrt[3]{x^{2}}}-\\frac{2}{x^{3}}+\\sqrt{7}·x)'=(x^{-\\frac{2}{3}})'-(2x^{-3})'+(\\sqrt{7}·x)'=-\\frac{2x^{-\\frac{5}{3}}}{3}+6x^{-4}+\\sqrt{7}$"
   ]
  },
  {
   "cell_type": "markdown",
   "id": "06586033",
   "metadata": {},
   "source": [
    "$3)y=cos\\frac{1-\\sqrt{x}}{1+\\sqrt{x}}$"
   ]
  },
  {
   "cell_type": "markdown",
   "id": "e8b2caf8",
   "metadata": {},
   "source": [
    "$y'(x)=(cos\\frac{1-\\sqrt{x}}{1+\\sqrt{x}})'=-sin\\frac{1-\\sqrt{x}}{1+\\sqrt{x}}·(\\frac{1-\\sqrt{x}}{1+\\sqrt{x}})'=-sin\\frac{1-\\sqrt{x}}{1+\\sqrt{x}}·(-\\frac{\\frac{1+\\sqrt{x}}{2\\sqrt{x}}-\\frac{1-\\sqrt{x}}{2\\sqrt{x}}}{(1+\\sqrt{x})^{2}})=\\frac{sin\\frac{1-\\sqrt{x}}{1+\\sqrt{x}}}{\\sqrt{x}·(1+\\sqrt{x})^{2}}$"
   ]
  },
  {
   "cell_type": "markdown",
   "id": "6802a997",
   "metadata": {},
   "source": [
    "$4)y=ln\\frac{(x+1)(x+3)^{3}}{(x+2)^3(x+4)}$"
   ]
  },
  {
   "cell_type": "markdown",
   "id": "d3d0dab7",
   "metadata": {},
   "source": [
    "$y'(x)=(ln\\frac{(x+1)(x+3)^{3}}{(x+2)^3(x+4)})'=(ln(x+1)+3ln(x+3)-3ln(x+2)-ln(x+4))'=\\frac{1}{x+1}+\\frac{3}{x+3}-\\frac{3}{x+2}-\\frac{1}{x+4}$"
   ]
  },
  {
   "cell_type": "markdown",
   "id": "c033c0a3",
   "metadata": {},
   "source": [
    "### 2) Найти производную данной функции в точке: \n",
    "$y=\\frac{ln(x)}{x},x_{0}=e$"
   ]
  },
  {
   "cell_type": "markdown",
   "id": "ab0cd6ca",
   "metadata": {},
   "source": [
    "$y'(x)=(\\frac{ln(x)}{x})'=\\frac{(ln(x))'x-ln(x)x'}{x^{2}}=\\frac{1-ln(x)}{x^{2}}$\n",
    "\n",
    "$y'(x_{0})=\\frac{1-ln(e)}{e^{2}}=0$"
   ]
  },
  {
   "cell_type": "markdown",
   "id": "8a68aa31",
   "metadata": {},
   "source": [
    "### 3) Используя логарифмическую производную, найти производную функции:\n",
    "$y=x^{ln(x)}$"
   ]
  },
  {
   "cell_type": "markdown",
   "id": "1a93ca54",
   "metadata": {},
   "source": [
    "$ln(y)=ln(x^{ln(x)})=lnx(x)·ln(x)$\n",
    "\n",
    "$(ln(y))'=(ln(x)·ln(x))'$\n",
    "\n",
    "$\\frac{y'}{y}=\\frac{ln(x)}{x}+\\frac{ln(x)}{x}=\\frac{2ln(x)}{x}$\n",
    "\n",
    "$y'=y·\\frac{2ln(x)}{x}=\\frac{x^{ln(x)}·2ln(x)}{x}=2x^{ln(x)}·\\frac{ln(x)}{x}$"
   ]
  },
  {
   "cell_type": "markdown",
   "id": "8c7ce7b6",
   "metadata": {},
   "source": [
    "### 4) Найти производную неявно заданной функции: \n",
    "$e^{xy}-cos(x^{2}+y^{2})=0$"
   ]
  },
  {
   "cell_type": "markdown",
   "id": "20d7d29a",
   "metadata": {},
   "source": [
    "$ln(e^{xy})=ln(cos(x^{2}+y^{2}))$\n",
    "\n",
    "$(xy)'=(ln(cos(x^{2}+y^{2})))'$\n",
    "\n",
    "$y+xy'=-\\frac{sin(x^{2}+y^{2})(2x+2y·y')}{cos(x^{2}+y^{2})}$\n",
    "\n",
    "$y+xy'=-2x·tg(x^{2}+y^{2})-2y·y'·tg((x^{2}+y^{2})$\n",
    "\n",
    "$y'=-\\frac{2x·tg(x^{2}+y^{2})+y}{x+2y·tg((x^{2}+y^{2})}$"
   ]
  },
  {
   "cell_type": "markdown",
   "id": "ea0a8867",
   "metadata": {},
   "source": [
    "### 5) Найти производную параметрически заданной функции: \n",
    "$x=t^{3}+t$\n",
    "\n",
    "$y=t^{2}+t+1$"
   ]
  },
  {
   "cell_type": "markdown",
   "id": "7a330ec5",
   "metadata": {},
   "source": [
    "$y'(x)=\\frac{y'(t)}{x'(t)}=\\frac{(t^{2}+t+1)'}{(t^{3}+t)'}=\\frac{2t+1}{3t^{2}+1}$"
   ]
  }
 ],
 "metadata": {
  "kernelspec": {
   "display_name": "Python 3 (ipykernel)",
   "language": "python",
   "name": "python3"
  },
  "language_info": {
   "codemirror_mode": {
    "name": "ipython",
    "version": 3
   },
   "file_extension": ".py",
   "mimetype": "text/x-python",
   "name": "python",
   "nbconvert_exporter": "python",
   "pygments_lexer": "ipython3",
   "version": "3.9.7"
  }
 },
 "nbformat": 4,
 "nbformat_minor": 5
}

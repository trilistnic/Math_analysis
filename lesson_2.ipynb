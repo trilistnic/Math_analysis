{
 "cells": [
  {
   "cell_type": "markdown",
   "id": "99be586c",
   "metadata": {},
   "source": [
    "### 1) Представьте в виде несократимой рациональной дроби:\n",
    "$а)$ $0.(216)$"
   ]
  },
  {
   "cell_type": "markdown",
   "id": "aba0cb06",
   "metadata": {},
   "source": [
    "$a=0.(216)$\n",
    "\n",
    "$1000a=216.(216)$ \n",
    "\n",
    "$1000a=216+0.(216)$\n",
    "\n",
    "$1000a=216+a$\n",
    "\n",
    "$a=\\frac{216}{999}=\\frac{24}{111}=\\frac{8}{37}$\n",
    "\n",
    "$=>0.(216)=\\frac{8}{37}$"
   ]
  },
  {
   "cell_type": "markdown",
   "id": "1d2e1ec0",
   "metadata": {},
   "source": [
    "$б)$ $1.0(01)$"
   ]
  },
  {
   "cell_type": "markdown",
   "id": "a2e9de7f",
   "metadata": {},
   "source": [
    "$a=0.(01)$\n",
    "\n",
    "$100a=1.(01)$\n",
    "\n",
    "$100a=1+0.(01)$\n",
    "\n",
    "$100a=1+a$\n",
    "\n",
    "$a=\\frac{1}{99}$\n",
    "\n",
    "$=>0.(01)=\\frac{1}{99}$"
   ]
  },
  {
   "cell_type": "markdown",
   "id": "fae476bb",
   "metadata": {},
   "source": [
    "$b=1.0(01)$\n",
    "\n",
    "$10b=10.(01)$\n",
    "\n",
    "$10b=10+0.(01)$\n",
    "\n",
    "$10b=10+\\frac{1}{99}$\n",
    "\n",
    "$b=\\frac{991}{990}$\n",
    "\n",
    "$=>1.0(01)=\\frac{991}{990}$"
   ]
  },
  {
   "cell_type": "markdown",
   "id": "0733dcc5",
   "metadata": {},
   "source": [
    "### 2) Проверьте любым способом, являются ли данные логические формулы тавтологией:\n",
    "\n",
    "$а) (A ∨ B) → (B ∨ \\overline{A})$"
   ]
  },
  {
   "cell_type": "markdown",
   "id": "a6486609",
   "metadata": {},
   "source": [
    "По таблице истинности импликация не является тавтологией\n",
    "\n",
    "|$$A$$|$$B$$|$$\\overline{A}$$|$$A ∨ B$$|$$B ∨ \\overline{A}$$|$$(A ∨ B) → (B ∨ \\overline{A})$$|\n",
    "|-|-|-|-|-|-|\n",
    "|1|1|0|1|1|1|\n",
    "|1|0|0|1|0|0|\n",
    "|0|1|1|1|1|1|\n",
    "|0|0|1|0|1|1|"
   ]
  },
  {
   "cell_type": "markdown",
   "id": "c5637827",
   "metadata": {},
   "source": [
    "$б) A → (A ∨ (\\overline{B} ∧ A))$"
   ]
  },
  {
   "cell_type": "markdown",
   "id": "c3829a8c",
   "metadata": {},
   "source": [
    "По таблице истинности импликация является тождественно-истинной тавтологией\n",
    "\n",
    "|$$A$$|$$B$$|$$\\overline{B}$$|$$\\overline{B} ∧ A$$|$$A ∨ (\\overline{B} ∧ A)$$|$$A → (A ∨ (\\overline{B} ∧ A))$$|\n",
    "|-|-|-|-|-|-|\n",
    "|1|1|0|0|1|1|\n",
    "|1|0|1|1|1|1|\n",
    "|0|1|0|0|0|1|\n",
    "|0|0|1|0|0|1|"
   ]
  },
  {
   "cell_type": "markdown",
   "id": "0e9ed9e9",
   "metadata": {},
   "source": [
    "### 3) Сформулируйте словесно высказывания (где А: сегодня светит солнце; В: сегодня сыро; С: я поеду на дачу.):\n",
    "\n",
    "$а) (\\overline{A} ∨ B) → \\overline{C}$"
   ]
  },
  {
   "cell_type": "markdown",
   "id": "e0477e04",
   "metadata": {},
   "source": [
    "Если сегодня не светит солнце или сегодня сыро, то я не поеду на дачу."
   ]
  },
  {
   "cell_type": "markdown",
   "id": "9e7e8d26",
   "metadata": {},
   "source": [
    "$б) C → (A ∨ \\overline{B})$"
   ]
  },
  {
   "cell_type": "markdown",
   "id": "062d1d45",
   "metadata": {},
   "source": [
    "Если я поеду на дачу, то сегодня светит солнце или сегодня не сыро."
   ]
  }
 ],
 "metadata": {
  "kernelspec": {
   "display_name": "Python 3 (ipykernel)",
   "language": "python",
   "name": "python3"
  },
  "language_info": {
   "codemirror_mode": {
    "name": "ipython",
    "version": 3
   },
   "file_extension": ".py",
   "mimetype": "text/x-python",
   "name": "python",
   "nbconvert_exporter": "python",
   "pygments_lexer": "ipython3",
   "version": "3.9.7"
  }
 },
 "nbformat": 4,
 "nbformat_minor": 5
}
